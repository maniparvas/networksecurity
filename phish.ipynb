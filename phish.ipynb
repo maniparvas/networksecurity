{
 "cells": [
  {
   "cell_type": "code",
   "execution_count": 1,
   "id": "35309a54",
   "metadata": {},
   "outputs": [],
   "source": [
    "import pandas as pd"
   ]
  },
  {
   "cell_type": "code",
   "execution_count": 3,
   "id": "c0ced361",
   "metadata": {},
   "outputs": [],
   "source": [
    "df=pd.read_csv(\"D:/Networksecurity/Network_Data/dataset_phishing.csv\")"
   ]
  },
  {
   "cell_type": "code",
   "execution_count": 8,
   "id": "ae595e9a",
   "metadata": {},
   "outputs": [
    {
     "data": {
      "text/plain": [
       "Index(['url', 'length_url', 'length_hostname', 'ip', 'nb_dots', 'nb_hyphens',\n",
       "       'nb_at', 'nb_qm', 'nb_and', 'nb_or', 'nb_eq', 'nb_underscore',\n",
       "       'nb_tilde', 'nb_percent', 'nb_slash', 'nb_star', 'nb_colon', 'nb_comma',\n",
       "       'nb_semicolumn', 'nb_dollar', 'nb_space', 'nb_www', 'nb_com',\n",
       "       'nb_dslash', 'http_in_path', 'https_token', 'ratio_digits_url',\n",
       "       'ratio_digits_host', 'punycode', 'port', 'tld_in_path',\n",
       "       'tld_in_subdomain', 'abnormal_subdomain', 'nb_subdomains',\n",
       "       'prefix_suffix', 'random_domain', 'shortening_service',\n",
       "       'path_extension', 'nb_redirection', 'nb_external_redirection',\n",
       "       'length_words_raw', 'char_repeat', 'shortest_words_raw',\n",
       "       'shortest_word_host', 'shortest_word_path', 'longest_words_raw',\n",
       "       'longest_word_host', 'longest_word_path', 'avg_words_raw',\n",
       "       'avg_word_host', 'avg_word_path', 'phish_hints', 'domain_in_brand',\n",
       "       'brand_in_subdomain', 'brand_in_path', 'suspecious_tld',\n",
       "       'statistical_report', 'nb_hyperlinks', 'ratio_intHyperlinks',\n",
       "       'ratio_extHyperlinks', 'ratio_nullHyperlinks', 'nb_extCSS',\n",
       "       'ratio_intRedirection', 'ratio_extRedirection', 'ratio_intErrors',\n",
       "       'ratio_extErrors', 'login_form', 'external_favicon', 'links_in_tags',\n",
       "       'submit_email', 'ratio_intMedia', 'ratio_extMedia', 'sfh', 'iframe',\n",
       "       'popup_window', 'safe_anchor', 'onmouseover', 'right_clic',\n",
       "       'empty_title', 'domain_in_title', 'domain_with_copyright',\n",
       "       'whois_registered_domain', 'domain_registration_length', 'domain_age',\n",
       "       'web_traffic', 'dns_record', 'google_index', 'page_rank', 'status'],\n",
       "      dtype='object')"
      ]
     },
     "execution_count": 8,
     "metadata": {},
     "output_type": "execute_result"
    }
   ],
   "source": [
    "df.columns"
   ]
  },
  {
   "cell_type": "code",
   "execution_count": 4,
   "id": "5346367e",
   "metadata": {},
   "outputs": [
    {
     "data": {
      "application/vnd.microsoft.datawrangler.viewer.v0+json": {
       "columns": [
        {
         "name": "index",
         "rawType": "int64",
         "type": "integer"
        },
        {
         "name": "url",
         "rawType": "object",
         "type": "string"
        },
        {
         "name": "length_url",
         "rawType": "int64",
         "type": "integer"
        },
        {
         "name": "length_hostname",
         "rawType": "int64",
         "type": "integer"
        },
        {
         "name": "ip",
         "rawType": "int64",
         "type": "integer"
        },
        {
         "name": "nb_dots",
         "rawType": "int64",
         "type": "integer"
        },
        {
         "name": "nb_hyphens",
         "rawType": "int64",
         "type": "integer"
        },
        {
         "name": "nb_at",
         "rawType": "int64",
         "type": "integer"
        },
        {
         "name": "nb_qm",
         "rawType": "int64",
         "type": "integer"
        },
        {
         "name": "nb_and",
         "rawType": "int64",
         "type": "integer"
        },
        {
         "name": "nb_or",
         "rawType": "int64",
         "type": "integer"
        },
        {
         "name": "nb_eq",
         "rawType": "int64",
         "type": "integer"
        },
        {
         "name": "nb_underscore",
         "rawType": "int64",
         "type": "integer"
        },
        {
         "name": "nb_tilde",
         "rawType": "int64",
         "type": "integer"
        },
        {
         "name": "nb_percent",
         "rawType": "int64",
         "type": "integer"
        },
        {
         "name": "nb_slash",
         "rawType": "int64",
         "type": "integer"
        },
        {
         "name": "nb_star",
         "rawType": "int64",
         "type": "integer"
        },
        {
         "name": "nb_colon",
         "rawType": "int64",
         "type": "integer"
        },
        {
         "name": "nb_comma",
         "rawType": "int64",
         "type": "integer"
        },
        {
         "name": "nb_semicolumn",
         "rawType": "int64",
         "type": "integer"
        },
        {
         "name": "nb_dollar",
         "rawType": "int64",
         "type": "integer"
        },
        {
         "name": "nb_space",
         "rawType": "int64",
         "type": "integer"
        },
        {
         "name": "nb_www",
         "rawType": "int64",
         "type": "integer"
        },
        {
         "name": "nb_com",
         "rawType": "int64",
         "type": "integer"
        },
        {
         "name": "nb_dslash",
         "rawType": "int64",
         "type": "integer"
        },
        {
         "name": "http_in_path",
         "rawType": "int64",
         "type": "integer"
        },
        {
         "name": "https_token",
         "rawType": "int64",
         "type": "integer"
        },
        {
         "name": "ratio_digits_url",
         "rawType": "float64",
         "type": "float"
        },
        {
         "name": "ratio_digits_host",
         "rawType": "float64",
         "type": "float"
        },
        {
         "name": "punycode",
         "rawType": "int64",
         "type": "integer"
        },
        {
         "name": "port",
         "rawType": "int64",
         "type": "integer"
        },
        {
         "name": "tld_in_path",
         "rawType": "int64",
         "type": "integer"
        },
        {
         "name": "tld_in_subdomain",
         "rawType": "int64",
         "type": "integer"
        },
        {
         "name": "abnormal_subdomain",
         "rawType": "int64",
         "type": "integer"
        },
        {
         "name": "nb_subdomains",
         "rawType": "int64",
         "type": "integer"
        },
        {
         "name": "prefix_suffix",
         "rawType": "int64",
         "type": "integer"
        },
        {
         "name": "random_domain",
         "rawType": "int64",
         "type": "integer"
        },
        {
         "name": "shortening_service",
         "rawType": "int64",
         "type": "integer"
        },
        {
         "name": "path_extension",
         "rawType": "int64",
         "type": "integer"
        },
        {
         "name": "nb_redirection",
         "rawType": "int64",
         "type": "integer"
        },
        {
         "name": "nb_external_redirection",
         "rawType": "int64",
         "type": "integer"
        },
        {
         "name": "length_words_raw",
         "rawType": "int64",
         "type": "integer"
        },
        {
         "name": "char_repeat",
         "rawType": "int64",
         "type": "integer"
        },
        {
         "name": "shortest_words_raw",
         "rawType": "int64",
         "type": "integer"
        },
        {
         "name": "shortest_word_host",
         "rawType": "int64",
         "type": "integer"
        },
        {
         "name": "shortest_word_path",
         "rawType": "int64",
         "type": "integer"
        },
        {
         "name": "longest_words_raw",
         "rawType": "int64",
         "type": "integer"
        },
        {
         "name": "longest_word_host",
         "rawType": "int64",
         "type": "integer"
        },
        {
         "name": "longest_word_path",
         "rawType": "int64",
         "type": "integer"
        },
        {
         "name": "avg_words_raw",
         "rawType": "float64",
         "type": "float"
        },
        {
         "name": "avg_word_host",
         "rawType": "float64",
         "type": "float"
        },
        {
         "name": "avg_word_path",
         "rawType": "float64",
         "type": "float"
        },
        {
         "name": "phish_hints",
         "rawType": "int64",
         "type": "integer"
        },
        {
         "name": "domain_in_brand",
         "rawType": "int64",
         "type": "integer"
        },
        {
         "name": "brand_in_subdomain",
         "rawType": "int64",
         "type": "integer"
        },
        {
         "name": "brand_in_path",
         "rawType": "int64",
         "type": "integer"
        },
        {
         "name": "suspecious_tld",
         "rawType": "int64",
         "type": "integer"
        },
        {
         "name": "statistical_report",
         "rawType": "int64",
         "type": "integer"
        },
        {
         "name": "nb_hyperlinks",
         "rawType": "int64",
         "type": "integer"
        },
        {
         "name": "ratio_intHyperlinks",
         "rawType": "float64",
         "type": "float"
        },
        {
         "name": "ratio_extHyperlinks",
         "rawType": "float64",
         "type": "float"
        },
        {
         "name": "ratio_nullHyperlinks",
         "rawType": "int64",
         "type": "integer"
        },
        {
         "name": "nb_extCSS",
         "rawType": "int64",
         "type": "integer"
        },
        {
         "name": "ratio_intRedirection",
         "rawType": "int64",
         "type": "integer"
        },
        {
         "name": "ratio_extRedirection",
         "rawType": "float64",
         "type": "float"
        },
        {
         "name": "ratio_intErrors",
         "rawType": "int64",
         "type": "integer"
        },
        {
         "name": "ratio_extErrors",
         "rawType": "float64",
         "type": "float"
        },
        {
         "name": "login_form",
         "rawType": "int64",
         "type": "integer"
        },
        {
         "name": "external_favicon",
         "rawType": "int64",
         "type": "integer"
        },
        {
         "name": "links_in_tags",
         "rawType": "float64",
         "type": "float"
        },
        {
         "name": "submit_email",
         "rawType": "int64",
         "type": "integer"
        },
        {
         "name": "ratio_intMedia",
         "rawType": "float64",
         "type": "float"
        },
        {
         "name": "ratio_extMedia",
         "rawType": "float64",
         "type": "float"
        },
        {
         "name": "sfh",
         "rawType": "int64",
         "type": "integer"
        },
        {
         "name": "iframe",
         "rawType": "int64",
         "type": "integer"
        },
        {
         "name": "popup_window",
         "rawType": "int64",
         "type": "integer"
        },
        {
         "name": "safe_anchor",
         "rawType": "float64",
         "type": "float"
        },
        {
         "name": "onmouseover",
         "rawType": "int64",
         "type": "integer"
        },
        {
         "name": "right_clic",
         "rawType": "int64",
         "type": "integer"
        },
        {
         "name": "empty_title",
         "rawType": "int64",
         "type": "integer"
        },
        {
         "name": "domain_in_title",
         "rawType": "int64",
         "type": "integer"
        },
        {
         "name": "domain_with_copyright",
         "rawType": "int64",
         "type": "integer"
        },
        {
         "name": "whois_registered_domain",
         "rawType": "int64",
         "type": "integer"
        },
        {
         "name": "domain_registration_length",
         "rawType": "int64",
         "type": "integer"
        },
        {
         "name": "domain_age",
         "rawType": "int64",
         "type": "integer"
        },
        {
         "name": "web_traffic",
         "rawType": "int64",
         "type": "integer"
        },
        {
         "name": "dns_record",
         "rawType": "int64",
         "type": "integer"
        },
        {
         "name": "google_index",
         "rawType": "int64",
         "type": "integer"
        },
        {
         "name": "page_rank",
         "rawType": "int64",
         "type": "integer"
        },
        {
         "name": "status",
         "rawType": "object",
         "type": "string"
        }
       ],
       "ref": "c9a8e96a-225f-4eaf-9659-ebdc51abb47b",
       "rows": [
        [
         "0",
         "http://www.crestonwood.com/router.php",
         "37",
         "19",
         "0",
         "3",
         "0",
         "0",
         "0",
         "0",
         "0",
         "0",
         "0",
         "0",
         "0",
         "3",
         "0",
         "1",
         "0",
         "0",
         "0",
         "0",
         "1",
         "0",
         "0",
         "0",
         "1",
         "0.0",
         "0.0",
         "0",
         "0",
         "0",
         "0",
         "0",
         "3",
         "0",
         "0",
         "0",
         "0",
         "0",
         "0",
         "4",
         "4",
         "3",
         "3",
         "3",
         "11",
         "11",
         "6",
         "5.75",
         "7.0",
         "4.5",
         "0",
         "0",
         "0",
         "0",
         "0",
         "0",
         "17",
         "0.529411765",
         "0.470588235",
         "0",
         "0",
         "0",
         "0.875",
         "0",
         "0.5",
         "0",
         "0",
         "80.0",
         "0",
         "100.0",
         "0.0",
         "0",
         "0",
         "0",
         "0.0",
         "0",
         "0",
         "0",
         "0",
         "1",
         "0",
         "45",
         "-1",
         "0",
         "1",
         "1",
         "4",
         "legitimate"
        ],
        [
         "1",
         "http://shadetreetechnology.com/V4/validation/a111aedc8ae390eabcfa130e041a10a4",
         "77",
         "23",
         "1",
         "1",
         "0",
         "0",
         "0",
         "0",
         "0",
         "0",
         "0",
         "0",
         "0",
         "5",
         "0",
         "1",
         "0",
         "0",
         "0",
         "0",
         "0",
         "0",
         "0",
         "0",
         "1",
         "0.220779221",
         "0.0",
         "0",
         "0",
         "0",
         "0",
         "0",
         "1",
         "0",
         "0",
         "0",
         "0",
         "1",
         "0",
         "4",
         "4",
         "2",
         "19",
         "2",
         "32",
         "19",
         "32",
         "15.75",
         "19.0",
         "14.66666667",
         "0",
         "0",
         "0",
         "0",
         "0",
         "0",
         "30",
         "0.966666667",
         "0.033333333",
         "0",
         "0",
         "0",
         "0.0",
         "0",
         "0.0",
         "0",
         "0",
         "100.0",
         "0",
         "80.0",
         "20.0",
         "0",
         "0",
         "0",
         "100.0",
         "0",
         "0",
         "0",
         "1",
         "0",
         "0",
         "77",
         "5767",
         "0",
         "0",
         "1",
         "2",
         "phishing"
        ],
        [
         "2",
         "https://support-appleld.com.secureupdate.duilawyeryork.com/ap/89e6a3b4b063b8d/?cmd=_update&dispatch=89e6a3b4b063b8d1b&locale=_",
         "126",
         "50",
         "1",
         "4",
         "1",
         "0",
         "1",
         "2",
         "0",
         "3",
         "2",
         "0",
         "0",
         "5",
         "0",
         "1",
         "0",
         "0",
         "0",
         "0",
         "0",
         "1",
         "0",
         "0",
         "0",
         "0.150793651",
         "0.0",
         "0",
         "0",
         "0",
         "1",
         "0",
         "3",
         "1",
         "0",
         "0",
         "0",
         "1",
         "0",
         "12",
         "2",
         "2",
         "3",
         "2",
         "17",
         "13",
         "17",
         "8.25",
         "8.4",
         "8.142857142999999",
         "0",
         "0",
         "0",
         "0",
         "0",
         "0",
         "4",
         "1.0",
         "0.0",
         "0",
         "0",
         "0",
         "0.0",
         "0",
         "0.0",
         "0",
         "0",
         "100.0",
         "0",
         "0.0",
         "0.0",
         "0",
         "0",
         "0",
         "100.0",
         "0",
         "0",
         "0",
         "1",
         "0",
         "0",
         "14",
         "4004",
         "5828815",
         "0",
         "1",
         "0",
         "phishing"
        ],
        [
         "3",
         "http://rgipt.ac.in",
         "18",
         "11",
         "0",
         "2",
         "0",
         "0",
         "0",
         "0",
         "0",
         "0",
         "0",
         "0",
         "0",
         "2",
         "0",
         "1",
         "0",
         "0",
         "0",
         "0",
         "0",
         "0",
         "0",
         "0",
         "1",
         "0.0",
         "0.0",
         "0",
         "0",
         "0",
         "0",
         "0",
         "2",
         "0",
         "0",
         "0",
         "0",
         "1",
         "0",
         "1",
         "0",
         "5",
         "5",
         "0",
         "5",
         "5",
         "0",
         "5.0",
         "5.0",
         "0.0",
         "0",
         "0",
         "0",
         "0",
         "0",
         "0",
         "149",
         "0.973154362",
         "0.026845638",
         "0",
         "0",
         "0",
         "0.25",
         "0",
         "0.25",
         "0",
         "0",
         "100.0",
         "0",
         "96.42857143",
         "3.571428571",
         "0",
         "0",
         "0",
         "62.5",
         "0",
         "0",
         "0",
         "1",
         "0",
         "0",
         "62",
         "-1",
         "107721",
         "0",
         "0",
         "3",
         "legitimate"
        ],
        [
         "4",
         "http://www.iracing.com/tracks/gateway-motorsports-park/",
         "55",
         "15",
         "0",
         "2",
         "2",
         "0",
         "0",
         "0",
         "0",
         "0",
         "0",
         "0",
         "0",
         "5",
         "0",
         "1",
         "0",
         "0",
         "0",
         "0",
         "1",
         "0",
         "0",
         "0",
         "1",
         "0.0",
         "0.0",
         "0",
         "0",
         "0",
         "0",
         "0",
         "2",
         "0",
         "0",
         "0",
         "0",
         "1",
         "0",
         "6",
         "3",
         "3",
         "3",
         "4",
         "11",
         "7",
         "11",
         "6.333333333",
         "5.0",
         "7.0",
         "0",
         "0",
         "0",
         "0",
         "0",
         "0",
         "102",
         "0.470588235",
         "0.529411765",
         "0",
         "0",
         "0",
         "0.537037037",
         "0",
         "0.018518519",
         "1",
         "0",
         "76.47058824",
         "0",
         "0.0",
         "100.0",
         "0",
         "0",
         "0",
         "0.0",
         "0",
         "0",
         "0",
         "0",
         "1",
         "0",
         "224",
         "8175",
         "8725",
         "0",
         "0",
         "6",
         "legitimate"
        ]
       ],
       "shape": {
        "columns": 89,
        "rows": 5
       }
      },
      "text/html": [
       "<div>\n",
       "<style scoped>\n",
       "    .dataframe tbody tr th:only-of-type {\n",
       "        vertical-align: middle;\n",
       "    }\n",
       "\n",
       "    .dataframe tbody tr th {\n",
       "        vertical-align: top;\n",
       "    }\n",
       "\n",
       "    .dataframe thead th {\n",
       "        text-align: right;\n",
       "    }\n",
       "</style>\n",
       "<table border=\"1\" class=\"dataframe\">\n",
       "  <thead>\n",
       "    <tr style=\"text-align: right;\">\n",
       "      <th></th>\n",
       "      <th>url</th>\n",
       "      <th>length_url</th>\n",
       "      <th>length_hostname</th>\n",
       "      <th>ip</th>\n",
       "      <th>nb_dots</th>\n",
       "      <th>nb_hyphens</th>\n",
       "      <th>nb_at</th>\n",
       "      <th>nb_qm</th>\n",
       "      <th>nb_and</th>\n",
       "      <th>nb_or</th>\n",
       "      <th>...</th>\n",
       "      <th>domain_in_title</th>\n",
       "      <th>domain_with_copyright</th>\n",
       "      <th>whois_registered_domain</th>\n",
       "      <th>domain_registration_length</th>\n",
       "      <th>domain_age</th>\n",
       "      <th>web_traffic</th>\n",
       "      <th>dns_record</th>\n",
       "      <th>google_index</th>\n",
       "      <th>page_rank</th>\n",
       "      <th>status</th>\n",
       "    </tr>\n",
       "  </thead>\n",
       "  <tbody>\n",
       "    <tr>\n",
       "      <th>0</th>\n",
       "      <td>http://www.crestonwood.com/router.php</td>\n",
       "      <td>37</td>\n",
       "      <td>19</td>\n",
       "      <td>0</td>\n",
       "      <td>3</td>\n",
       "      <td>0</td>\n",
       "      <td>0</td>\n",
       "      <td>0</td>\n",
       "      <td>0</td>\n",
       "      <td>0</td>\n",
       "      <td>...</td>\n",
       "      <td>0</td>\n",
       "      <td>1</td>\n",
       "      <td>0</td>\n",
       "      <td>45</td>\n",
       "      <td>-1</td>\n",
       "      <td>0</td>\n",
       "      <td>1</td>\n",
       "      <td>1</td>\n",
       "      <td>4</td>\n",
       "      <td>legitimate</td>\n",
       "    </tr>\n",
       "    <tr>\n",
       "      <th>1</th>\n",
       "      <td>http://shadetreetechnology.com/V4/validation/a...</td>\n",
       "      <td>77</td>\n",
       "      <td>23</td>\n",
       "      <td>1</td>\n",
       "      <td>1</td>\n",
       "      <td>0</td>\n",
       "      <td>0</td>\n",
       "      <td>0</td>\n",
       "      <td>0</td>\n",
       "      <td>0</td>\n",
       "      <td>...</td>\n",
       "      <td>1</td>\n",
       "      <td>0</td>\n",
       "      <td>0</td>\n",
       "      <td>77</td>\n",
       "      <td>5767</td>\n",
       "      <td>0</td>\n",
       "      <td>0</td>\n",
       "      <td>1</td>\n",
       "      <td>2</td>\n",
       "      <td>phishing</td>\n",
       "    </tr>\n",
       "    <tr>\n",
       "      <th>2</th>\n",
       "      <td>https://support-appleld.com.secureupdate.duila...</td>\n",
       "      <td>126</td>\n",
       "      <td>50</td>\n",
       "      <td>1</td>\n",
       "      <td>4</td>\n",
       "      <td>1</td>\n",
       "      <td>0</td>\n",
       "      <td>1</td>\n",
       "      <td>2</td>\n",
       "      <td>0</td>\n",
       "      <td>...</td>\n",
       "      <td>1</td>\n",
       "      <td>0</td>\n",
       "      <td>0</td>\n",
       "      <td>14</td>\n",
       "      <td>4004</td>\n",
       "      <td>5828815</td>\n",
       "      <td>0</td>\n",
       "      <td>1</td>\n",
       "      <td>0</td>\n",
       "      <td>phishing</td>\n",
       "    </tr>\n",
       "    <tr>\n",
       "      <th>3</th>\n",
       "      <td>http://rgipt.ac.in</td>\n",
       "      <td>18</td>\n",
       "      <td>11</td>\n",
       "      <td>0</td>\n",
       "      <td>2</td>\n",
       "      <td>0</td>\n",
       "      <td>0</td>\n",
       "      <td>0</td>\n",
       "      <td>0</td>\n",
       "      <td>0</td>\n",
       "      <td>...</td>\n",
       "      <td>1</td>\n",
       "      <td>0</td>\n",
       "      <td>0</td>\n",
       "      <td>62</td>\n",
       "      <td>-1</td>\n",
       "      <td>107721</td>\n",
       "      <td>0</td>\n",
       "      <td>0</td>\n",
       "      <td>3</td>\n",
       "      <td>legitimate</td>\n",
       "    </tr>\n",
       "    <tr>\n",
       "      <th>4</th>\n",
       "      <td>http://www.iracing.com/tracks/gateway-motorspo...</td>\n",
       "      <td>55</td>\n",
       "      <td>15</td>\n",
       "      <td>0</td>\n",
       "      <td>2</td>\n",
       "      <td>2</td>\n",
       "      <td>0</td>\n",
       "      <td>0</td>\n",
       "      <td>0</td>\n",
       "      <td>0</td>\n",
       "      <td>...</td>\n",
       "      <td>0</td>\n",
       "      <td>1</td>\n",
       "      <td>0</td>\n",
       "      <td>224</td>\n",
       "      <td>8175</td>\n",
       "      <td>8725</td>\n",
       "      <td>0</td>\n",
       "      <td>0</td>\n",
       "      <td>6</td>\n",
       "      <td>legitimate</td>\n",
       "    </tr>\n",
       "  </tbody>\n",
       "</table>\n",
       "<p>5 rows × 89 columns</p>\n",
       "</div>"
      ],
      "text/plain": [
       "                                                 url  length_url  \\\n",
       "0              http://www.crestonwood.com/router.php          37   \n",
       "1  http://shadetreetechnology.com/V4/validation/a...          77   \n",
       "2  https://support-appleld.com.secureupdate.duila...         126   \n",
       "3                                 http://rgipt.ac.in          18   \n",
       "4  http://www.iracing.com/tracks/gateway-motorspo...          55   \n",
       "\n",
       "   length_hostname  ip  nb_dots  nb_hyphens  nb_at  nb_qm  nb_and  nb_or  ...  \\\n",
       "0               19   0        3           0      0      0       0      0  ...   \n",
       "1               23   1        1           0      0      0       0      0  ...   \n",
       "2               50   1        4           1      0      1       2      0  ...   \n",
       "3               11   0        2           0      0      0       0      0  ...   \n",
       "4               15   0        2           2      0      0       0      0  ...   \n",
       "\n",
       "   domain_in_title  domain_with_copyright  whois_registered_domain  \\\n",
       "0                0                      1                        0   \n",
       "1                1                      0                        0   \n",
       "2                1                      0                        0   \n",
       "3                1                      0                        0   \n",
       "4                0                      1                        0   \n",
       "\n",
       "   domain_registration_length  domain_age  web_traffic  dns_record  \\\n",
       "0                          45          -1            0           1   \n",
       "1                          77        5767            0           0   \n",
       "2                          14        4004      5828815           0   \n",
       "3                          62          -1       107721           0   \n",
       "4                         224        8175         8725           0   \n",
       "\n",
       "   google_index  page_rank      status  \n",
       "0             1          4  legitimate  \n",
       "1             1          2    phishing  \n",
       "2             1          0    phishing  \n",
       "3             0          3  legitimate  \n",
       "4             0          6  legitimate  \n",
       "\n",
       "[5 rows x 89 columns]"
      ]
     },
     "execution_count": 4,
     "metadata": {},
     "output_type": "execute_result"
    }
   ],
   "source": [
    "df.head()"
   ]
  },
  {
   "cell_type": "code",
   "execution_count": 7,
   "id": "8987bf72",
   "metadata": {},
   "outputs": [
    {
     "data": {
      "application/vnd.microsoft.datawrangler.viewer.v0+json": {
       "columns": [
        {
         "name": "index",
         "rawType": "object",
         "type": "string"
        },
        {
         "name": "0",
         "rawType": "object",
         "type": "unknown"
        }
       ],
       "ref": "b1669f9b-ec67-422a-8d44-a6e8d90d259e",
       "rows": [
        [
         "url",
         "object"
        ],
        [
         "length_url",
         "int64"
        ],
        [
         "length_hostname",
         "int64"
        ],
        [
         "ip",
         "int64"
        ],
        [
         "nb_dots",
         "int64"
        ],
        [
         "nb_hyphens",
         "int64"
        ],
        [
         "nb_at",
         "int64"
        ],
        [
         "nb_qm",
         "int64"
        ],
        [
         "nb_and",
         "int64"
        ],
        [
         "nb_or",
         "int64"
        ],
        [
         "nb_eq",
         "int64"
        ],
        [
         "nb_underscore",
         "int64"
        ],
        [
         "nb_tilde",
         "int64"
        ],
        [
         "nb_percent",
         "int64"
        ],
        [
         "nb_slash",
         "int64"
        ],
        [
         "nb_star",
         "int64"
        ],
        [
         "nb_colon",
         "int64"
        ],
        [
         "nb_comma",
         "int64"
        ],
        [
         "nb_semicolumn",
         "int64"
        ],
        [
         "nb_dollar",
         "int64"
        ],
        [
         "nb_space",
         "int64"
        ],
        [
         "nb_www",
         "int64"
        ],
        [
         "nb_com",
         "int64"
        ],
        [
         "nb_dslash",
         "int64"
        ],
        [
         "http_in_path",
         "int64"
        ],
        [
         "https_token",
         "int64"
        ],
        [
         "ratio_digits_url",
         "float64"
        ],
        [
         "ratio_digits_host",
         "float64"
        ],
        [
         "punycode",
         "int64"
        ],
        [
         "port",
         "int64"
        ],
        [
         "tld_in_path",
         "int64"
        ],
        [
         "tld_in_subdomain",
         "int64"
        ],
        [
         "abnormal_subdomain",
         "int64"
        ],
        [
         "nb_subdomains",
         "int64"
        ],
        [
         "prefix_suffix",
         "int64"
        ],
        [
         "random_domain",
         "int64"
        ],
        [
         "shortening_service",
         "int64"
        ],
        [
         "path_extension",
         "int64"
        ],
        [
         "nb_redirection",
         "int64"
        ],
        [
         "nb_external_redirection",
         "int64"
        ],
        [
         "length_words_raw",
         "int64"
        ],
        [
         "char_repeat",
         "int64"
        ],
        [
         "shortest_words_raw",
         "int64"
        ],
        [
         "shortest_word_host",
         "int64"
        ],
        [
         "shortest_word_path",
         "int64"
        ],
        [
         "longest_words_raw",
         "int64"
        ],
        [
         "longest_word_host",
         "int64"
        ],
        [
         "longest_word_path",
         "int64"
        ],
        [
         "avg_words_raw",
         "float64"
        ],
        [
         "avg_word_host",
         "float64"
        ]
       ],
       "shape": {
        "columns": 1,
        "rows": 89
       }
      },
      "text/plain": [
       "url                object\n",
       "length_url          int64\n",
       "length_hostname     int64\n",
       "ip                  int64\n",
       "nb_dots             int64\n",
       "                    ...  \n",
       "web_traffic         int64\n",
       "dns_record          int64\n",
       "google_index        int64\n",
       "page_rank           int64\n",
       "status             object\n",
       "Length: 89, dtype: object"
      ]
     },
     "execution_count": 7,
     "metadata": {},
     "output_type": "execute_result"
    }
   ],
   "source": [
    "df.dtypes"
   ]
  },
  {
   "cell_type": "code",
   "execution_count": null,
   "id": "a51df2be",
   "metadata": {},
   "outputs": [],
   "source": []
  }
 ],
 "metadata": {
  "kernelspec": {
   "display_name": "base",
   "language": "python",
   "name": "python3"
  },
  "language_info": {
   "codemirror_mode": {
    "name": "ipython",
    "version": 3
   },
   "file_extension": ".py",
   "mimetype": "text/x-python",
   "name": "python",
   "nbconvert_exporter": "python",
   "pygments_lexer": "ipython3",
   "version": "3.12.4"
  }
 },
 "nbformat": 4,
 "nbformat_minor": 5
}
